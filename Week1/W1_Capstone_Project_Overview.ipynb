{
  "nbformat": 4,
  "nbformat_minor": 0,
  "metadata": {
    "colab": {
      "name": "W1 - Capstone Project Overview.ipynb",
      "provenance": [],
      "collapsed_sections": [],
      "authorship_tag": "ABX9TyMW2agKAtY1VyNaCLCW990j",
      "include_colab_link": true
    },
    "kernelspec": {
      "name": "python3",
      "display_name": "Python 3"
    }
  },
  "cells": [
    {
      "cell_type": "markdown",
      "metadata": {
        "id": "view-in-github",
        "colab_type": "text"
      },
      "source": [
        "<a href=\"https://colab.research.google.com/github/TotonAntoko/Coursera_Capstone/blob/main/W1_Capstone_Project_Overview.ipynb\" target=\"_parent\"><img src=\"https://colab.research.google.com/assets/colab-badge.svg\" alt=\"Open In Colab\"/></a>"
      ]
    },
    {
      "cell_type": "markdown",
      "metadata": {
        "id": "CZfgIrvHXHP_"
      },
      "source": [
        "# **Data Science Coursera Capstone**"
      ]
    },
    {
      "cell_type": "markdown",
      "metadata": {
        "id": "KcVvmWD2XPpx"
      },
      "source": [
        "The Aim of this notebook is to complete the Coursera Capstone project to get certificate IBM Data Science Professional Certification."
      ]
    },
    {
      "cell_type": "code",
      "metadata": {
        "id": "3ciTJr9dT4Au"
      },
      "source": [
        "import pandas as pd\r\n",
        "import numpy as np"
      ],
      "execution_count": 1,
      "outputs": []
    },
    {
      "cell_type": "code",
      "metadata": {
        "colab": {
          "base_uri": "https://localhost:8080/"
        },
        "id": "Za1XBVDYX2WK",
        "outputId": "a9e35ee1-8bcc-4fd2-83db-f329f938668c"
      },
      "source": [
        "print('Hello Capstone Project Course')"
      ],
      "execution_count": 2,
      "outputs": [
        {
          "output_type": "stream",
          "text": [
            "Hello Capstone Project Course\n"
          ],
          "name": "stdout"
        }
      ]
    },
    {
      "cell_type": "code",
      "metadata": {
        "id": "vWbYWvoQX7ok"
      },
      "source": [
        ""
      ],
      "execution_count": null,
      "outputs": []
    }
  ]
}
